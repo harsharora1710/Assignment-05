{
 "cells": [
  {
   "cell_type": "code",
   "execution_count": 2,
   "id": "ad106f09-0932-484a-8d29-638c7667e9fa",
   "metadata": {},
   "outputs": [],
   "source": [
    "#q1)\n",
    "class vehicle:\n",
    "    def __init__(self,name_of_vehicle, max_speed,average_of_vehicle):\n",
    "        self.name_of_vehicle=name_of_vehicle\n",
    "        self.max_speed=max_speed\n",
    "        self.average_of_vehicle=average_of_vehicle\n",
    "        "
   ]
  },
  {
   "cell_type": "code",
   "execution_count": 3,
   "id": "65aed5c0-83bb-47ee-b757-989aa57b9e73",
   "metadata": {},
   "outputs": [],
   "source": [
    "v=vehicle(\"car\",100,40)"
   ]
  },
  {
   "cell_type": "code",
   "execution_count": 4,
   "id": "d3ee38dd-c741-4162-8f8b-a972c5a3f83c",
   "metadata": {},
   "outputs": [
    {
     "data": {
      "text/plain": [
       "'car'"
      ]
     },
     "execution_count": 4,
     "metadata": {},
     "output_type": "execute_result"
    }
   ],
   "source": [
    "v.name_of_vehicle"
   ]
  },
  {
   "cell_type": "code",
   "execution_count": 18,
   "id": "c15badb1-4782-4392-ac7b-3d19ca428367",
   "metadata": {},
   "outputs": [],
   "source": [
    "#q2)\n",
    "class car(vehicle):\n",
    "    def seating_capacity(self,c):\n",
    "        self.sc=c\n",
    "        return self.name_of_vehicle,self.sc"
   ]
  },
  {
   "cell_type": "code",
   "execution_count": 19,
   "id": "a7f52c43-b296-40e4-86c6-a607a8606f03",
   "metadata": {},
   "outputs": [],
   "source": [
    "cc=car(\"ciaz\",140,20)"
   ]
  },
  {
   "cell_type": "code",
   "execution_count": 20,
   "id": "316660cf-7094-451e-bb28-7352db0a6e3a",
   "metadata": {},
   "outputs": [
    {
     "data": {
      "text/plain": [
       "('ciaz', 5)"
      ]
     },
     "execution_count": 20,
     "metadata": {},
     "output_type": "execute_result"
    }
   ],
   "source": [
    "cc.seating_capacity(5)"
   ]
  },
  {
   "cell_type": "code",
   "execution_count": 27,
   "id": "ef830db3-3246-47a3-8ffe-b6fa7a3f4fe9",
   "metadata": {},
   "outputs": [],
   "source": [
    "#q3)\n",
    "#Multiple inheritance  refers to a feature that allows a class to inherit attributes and methods from multiple parent classes.\n",
    "class A:\n",
    "    def pr(self):\n",
    "        print(\"CLASS A\")"
   ]
  },
  {
   "cell_type": "code",
   "execution_count": 28,
   "id": "2bcf59e8-a344-4f98-9a34-3b52656d8f09",
   "metadata": {},
   "outputs": [],
   "source": [
    "class B:\n",
    "    def pr2(self):\n",
    "        print(\"CLASS B\")"
   ]
  },
  {
   "cell_type": "code",
   "execution_count": 29,
   "id": "38b6797a-5da5-4b3a-8f7a-3604e9b93f9e",
   "metadata": {},
   "outputs": [],
   "source": [
    "class C(A,B):\n",
    "    pass"
   ]
  },
  {
   "cell_type": "code",
   "execution_count": 30,
   "id": "ddf8908d-5a4c-452e-baa6-772fd0db9297",
   "metadata": {},
   "outputs": [],
   "source": [
    "c=C()"
   ]
  },
  {
   "cell_type": "code",
   "execution_count": 31,
   "id": "b8a9aadd-81a9-4512-b499-c4eec46306d5",
   "metadata": {},
   "outputs": [
    {
     "name": "stdout",
     "output_type": "stream",
     "text": [
      "CLASS A\n"
     ]
    }
   ],
   "source": [
    "c.pr()"
   ]
  },
  {
   "cell_type": "code",
   "execution_count": 32,
   "id": "9f9e379e-fb93-4876-a96a-3f2907819173",
   "metadata": {},
   "outputs": [
    {
     "name": "stdout",
     "output_type": "stream",
     "text": [
      "CLASS B\n"
     ]
    }
   ],
   "source": [
    "c.pr2()"
   ]
  },
  {
   "cell_type": "code",
   "execution_count": 37,
   "id": "3596d8c3-8e86-47f1-b1b8-d2dd0ac9aea3",
   "metadata": {},
   "outputs": [],
   "source": [
    "#q4)\n",
    "class test:\n",
    "    def __init__(self,a,b,c):\n",
    "        self.__a=a\n",
    "        self.__b=b\n",
    "        self.__c=c\n",
    "    def getSides(self):\n",
    "        return self.__a,self.__b,self.__c\n",
    "    def setSides(self,a,b,c):\n",
    "        self.__a=a\n",
    "        self.__b=b\n",
    "        self.__c=c"
   ]
  },
  {
   "cell_type": "code",
   "execution_count": 38,
   "id": "a7af2965-fd9d-4197-b967-baec0465856f",
   "metadata": {},
   "outputs": [],
   "source": [
    "ss=test(1,2,3)"
   ]
  },
  {
   "cell_type": "code",
   "execution_count": 39,
   "id": "f729e1a9-0d35-45e2-b7b7-47315ee397be",
   "metadata": {},
   "outputs": [
    {
     "data": {
      "text/plain": [
       "(1, 2, 3)"
      ]
     },
     "execution_count": 39,
     "metadata": {},
     "output_type": "execute_result"
    }
   ],
   "source": [
    "ss.getSides()"
   ]
  },
  {
   "cell_type": "code",
   "execution_count": 40,
   "id": "6c52e256-ba37-4aac-8d14-aab5c651524a",
   "metadata": {},
   "outputs": [],
   "source": [
    "ss.setSides(4,5,6)"
   ]
  },
  {
   "cell_type": "code",
   "execution_count": 41,
   "id": "304dd462-3a19-4218-88e0-b996233ca912",
   "metadata": {},
   "outputs": [
    {
     "data": {
      "text/plain": [
       "(4, 5, 6)"
      ]
     },
     "execution_count": 41,
     "metadata": {},
     "output_type": "execute_result"
    }
   ],
   "source": [
    "ss.getSides()"
   ]
  },
  {
   "cell_type": "code",
   "execution_count": 42,
   "id": "7066c605-8f4c-4b06-aeb0-69d1619580cc",
   "metadata": {},
   "outputs": [],
   "source": [
    "#q5)\n",
    "class A:\n",
    "    def pr(self):\n",
    "        print(\"CLASS A\")\n",
    "class B(A):\n",
    "    def pr(self):\n",
    "        print(\"CLASS B\")"
   ]
  },
  {
   "cell_type": "code",
   "execution_count": null,
   "id": "03c7c70b-b090-4532-9874-51086c24ef9b",
   "metadata": {},
   "outputs": [],
   "source": []
  }
 ],
 "metadata": {
  "kernelspec": {
   "display_name": "Python 3 (ipykernel)",
   "language": "python",
   "name": "python3"
  },
  "language_info": {
   "codemirror_mode": {
    "name": "ipython",
    "version": 3
   },
   "file_extension": ".py",
   "mimetype": "text/x-python",
   "name": "python",
   "nbconvert_exporter": "python",
   "pygments_lexer": "ipython3",
   "version": "3.10.8"
  }
 },
 "nbformat": 4,
 "nbformat_minor": 5
}
